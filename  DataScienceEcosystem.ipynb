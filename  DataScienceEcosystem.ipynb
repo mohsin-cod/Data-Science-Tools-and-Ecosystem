{
 "cells": [
  {
   "cell_type": "markdown",
   "id": "6a7060c2-38ca-4046-b26d-a0fbff2696b0",
   "metadata": {
    "panel-layout": {
     "height": 51.13750076293945,
     "visible": true,
     "width": 100
    }
   },
   "source": [
    "# Data Science Tools and Ecosystem"
   ]
  },
  {
   "cell_type": "markdown",
   "id": "5a3d009f-fd1d-40fd-a5c4-28e24f4274be",
   "metadata": {
    "panel-layout": {
     "height": 51.13750076293945,
     "visible": true,
     "width": 100
    }
   },
   "source": [
    "In this notebook, Data Science Tools and Ecosystem are summarized."
   ]
  },
  {
   "cell_type": "markdown",
   "id": "2b5afe58-44f5-4729-93f3-b5407823723c",
   "metadata": {
    "panel-layout": {
     "height": 51.13750076293945,
     "visible": true,
     "width": 100
    }
   },
   "source": [
    "__Objectives:__\n",
    "* Create a Jupyter Notebook with markdown and code cells\n",
    "* List examples of languages, libraries and tools used in Data Science\n",
    "* Share your Jupyter Notebook publicly on GitHub\n",
    "* Evaluate notebooks submitted by your peers using the provided rubric\n",
    "* Demonstrate proficiency in Data Science toolkit knowledge"
   ]
  },
  {
   "cell_type": "markdown",
   "id": "f1d42918-9e62-49c4-914f-8bd56c1924ab",
   "metadata": {
    "panel-layout": {
     "height": 114.55000305175781,
     "visible": true,
     "width": 100
    }
   },
   "source": [
    "Some of the popular languages that Data Scientists use are:\n",
    "1. R\n",
    "2. Python\n",
    "3. SQL"
   ]
  },
  {
   "cell_type": "markdown",
   "id": "7aebc5ee-7ea6-420e-af24-0caa503866a3",
   "metadata": {
    "panel-layout": {
     "height": 114.55000305175781,
     "visible": true,
     "width": 100
    }
   },
   "source": [
    "Some of the commonly used libraries used by Data Scientists include:\n",
    "1. NumPy\n",
    "2. TensorFlow\n",
    "3. Keras"
   ]
  },
  {
   "cell_type": "markdown",
   "id": "46ed1dfa-4562-4a59-ba0a-79ba442da8ba",
   "metadata": {
    "panel-layout": {
     "height": 122.55000305175781,
     "visible": true,
     "width": 100
    }
   },
   "source": [
    "|Data Science Tools|\n",
    "|-----------|\n",
    "|Spyder|\n",
    "|RStudio|\n",
    "|Jupyter Notebook|"
   ]
  },
  {
   "cell_type": "markdown",
   "id": "2da0e493-cb30-4275-b7d9-f3ceabc10dfa",
   "metadata": {
    "panel-layout": {
     "height": 114.55000305175781,
     "visible": true,
     "width": 100
    }
   },
   "source": [
    "### Below are a few examples of evaluating arithmetic expressions in Python\n",
    "\n",
    "1. 3+1\n",
    "2. 4*3\n",
    "3. 3/2"
   ]
  },
  {
   "cell_type": "code",
   "execution_count": 4,
   "id": "357e240c-3da4-4ebb-874a-b28a35403171",
   "metadata": {
    "panel-layout": {
     "height": 0,
     "visible": true,
     "width": 100
    }
   },
   "outputs": [
    {
     "name": "stdout",
     "output_type": "stream",
     "text": [
      "17\n"
     ]
    }
   ],
   "source": [
    "# This a simple arithmetic expression to multiply then add integers\n",
    "print((3*4)+5)"
   ]
  },
  {
   "cell_type": "code",
   "execution_count": 5,
   "id": "0ef98b2e-2b03-4a2f-9d14-6fb806721486",
   "metadata": {
    "panel-layout": {
     "height": 0,
     "visible": true,
     "width": 100
    }
   },
   "outputs": [
    {
     "name": "stdout",
     "output_type": "stream",
     "text": [
      "3.3333333333333335\n"
     ]
    }
   ],
   "source": [
    "#This will convert 200 minutes to hours by diving by 60\n",
    "#1 hour = 60 minutes\n",
    "print(200/60)"
   ]
  },
  {
   "cell_type": "markdown",
   "id": "b209d094-086d-4f3a-90d8-9343c00392fa",
   "metadata": {},
   "source": [
    "## Author\n",
    "Muhammad Mohsin Shahzad"
   ]
  },
  {
   "cell_type": "code",
   "execution_count": null,
   "id": "b3bbf558-0541-4c9b-bd43-10b131e7464c",
   "metadata": {},
   "outputs": [],
   "source": []
  }
 ],
 "metadata": {
  "kernelspec": {
   "display_name": "Python [conda env:base] *",
   "language": "python",
   "name": "conda-base-py"
  },
  "language_info": {
   "codemirror_mode": {
    "name": "ipython",
    "version": 3
   },
   "file_extension": ".py",
   "mimetype": "text/x-python",
   "name": "python",
   "nbconvert_exporter": "python",
   "pygments_lexer": "ipython3",
   "version": "3.12.7"
  },
  "panel-cell-order": [
   "6a7060c2-38ca-4046-b26d-a0fbff2696b0",
   "5a3d009f-fd1d-40fd-a5c4-28e24f4274be",
   "2b5afe58-44f5-4729-93f3-b5407823723c",
   "f1d42918-9e62-49c4-914f-8bd56c1924ab",
   "7aebc5ee-7ea6-420e-af24-0caa503866a3",
   "46ed1dfa-4562-4a59-ba0a-79ba442da8ba",
   "2da0e493-cb30-4275-b7d9-f3ceabc10dfa",
   "357e240c-3da4-4ebb-874a-b28a35403171",
   "0ef98b2e-2b03-4a2f-9d14-6fb806721486"
  ]
 },
 "nbformat": 4,
 "nbformat_minor": 5
}
